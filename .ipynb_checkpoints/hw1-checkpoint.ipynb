{
 "cells": [
  {
   "cell_type": "code",
   "execution_count": 69,
   "id": "4278b3b5",
   "metadata": {},
   "outputs": [],
   "source": [
    "import jieba\n",
    "import collections\n",
    "import re\n",
    "from math import *\n",
    "import matplotlib.pyplot as plt\n",
    "import numpy\n",
    "import pandas as pd\n",
    "\n",
    "jieba.set_dictionary('./dict.txt')"
   ]
  },
  {
   "cell_type": "code",
   "execution_count": 31,
   "id": "ad1a7cdb",
   "metadata": {},
   "outputs": [],
   "source": [
    "def preprocessing(articles):\n",
    "    dataset = list()\n",
    "    for line in articles[:1000]: # 先取少數篇\n",
    "        sentences = line[:-1].split('t') # print(sentences)\n",
    "        for i in range(len(sentences)):\n",
    "            sentences[i] = re.sub(r'\\W+', \"\", sentences[i])\n",
    "        # print(sentences[0])\n",
    "        words = list(jieba.cut(sentences[0], cut_all=False))\n",
    "        dataset.append(words)\n",
    "    return list(dataset)"
   ]
  },
  {
   "cell_type": "code",
   "execution_count": 35,
   "id": "c53dc66f",
   "metadata": {},
   "outputs": [],
   "source": [
    "def word_tf_in_dataset(dataset):\n",
    "    all_word_statistics = collections.Counter()\n",
    "    for article in dataset:\n",
    "        for sentence in article:\n",
    "            all_word_statistics += collections.Counter(sentence)\n",
    "    # print(all_word_statistics)\n",
    "    total = sum(all_word_statistics.values(), 0.0)\n",
    "    all_word_tf = {key: round((val/total), 3) for key, val in sorted(all_word_statistics.items(), key=lambda x: x[1], reverse=True)}\n",
    "    # print(all_word_tf)\n",
    "    return all_word_tf"
   ]
  },
  {
   "cell_type": "code",
   "execution_count": 62,
   "id": "086f4d7f",
   "metadata": {},
   "outputs": [],
   "source": [
    "def tf(article): # t: 詞\n",
    "    word_statistics = collections.Counter()\n",
    "    word_statistics += collections.Counter(list(article))\n",
    "    total = sum(word_statistics.values(), 0.0)\n",
    "    word_tf = {key: round((val/total), 2) for key, val in sorted(word_statistics.items(), key=lambda x: x[1], reverse=True)}\n",
    "    \n",
    "    return word_tf"
   ]
  },
  {
   "cell_type": "code",
   "execution_count": 76,
   "id": "aad85672",
   "metadata": {},
   "outputs": [],
   "source": [
    "def idf(tf_per_article_table): # t: 詞\n",
    "    word_appear_count = collections.Counter()\n",
    "    for i in range(len(tf_per_article_table)):\n",
    "        word_appear_count += collections.Counter({key: 1 for key in tf_per_article_table[i].keys()})\n",
    "    \n",
    "    idf_table = {word: round(log10(len(tf_per_article_table) / count), 3) for word, count in sorted(word_appear_count.items(), key=lambda x: x[1], reverse=False)}\n",
    "    return idf_table"
   ]
  },
  {
   "cell_type": "code",
   "execution_count": 78,
   "id": "a50324af",
   "metadata": {},
   "outputs": [],
   "source": [
    "def tf_idf(tf_t_d, idf_t_D):\n",
    "    table = dict()\n",
    "    for t, tf in tf_t_d.items():\n",
    "        if table.get(t) == None:\n",
    "            table[t] = round((tf * idf_t_D[t]), 3)\n",
    "        elif table.get(t) != None and round((tf * idf_t_D[t]), 3) > table[t]:\n",
    "            table[t] = round((tf * idf_t_D[t]), 3)\n",
    "    return {key: val for key, val in sorted(table.items(), key=lambda x: x[1], reverse=True)}"
   ]
  },
  {
   "cell_type": "code",
   "execution_count": 83,
   "id": "4381c063",
   "metadata": {},
   "outputs": [],
   "source": [
    "def rank_100(tf_idf_table):\n",
    "    skip_flag = {key: False for key in tf_idf_table.keys()}\n",
    "    rank_100 = {'a': 0.0}\n",
    "    min_in_rank = ('a', 0.0)\n",
    "    idx = 0\n",
    "    while True:\n",
    "        stop_flag = True\n",
    "        for i in range(len(tf_idf_table)):\n",
    "            if idx >= len(tf_idf_table[i].items()): # 第 i 篇文章已經沒人比\n",
    "                continue # 換下一篇\n",
    "            if skip_flag[i] != True: # 第 i 篇文章還有詞有競爭力, 不跳過\n",
    "                word, weight = tuple(tf_idf_table[i].items())[idx] # 把 詞, 權重 用簡單的變數存\n",
    "                if weight > min_in_rank[1]: # if 權重大於排行榜的最後一名(的權重)\n",
    "                    rank_100[ word ] = weight # 加進新人\n",
    "                    if len(rank_100) > 100: # 若排行榜超過 100 人 (還沒滿的話就沒事了)\n",
    "                        rank_100.pop(min_in_rank[0]) # 踢掉最小\n",
    "                        new_rank_list = sorted(rank_100.items(), key=lambda x: x[1], reverse=True) # 重排\n",
    "                        min_in_rank = new_rank_list[-1] # 找出新的最後一名\n",
    "                        rank_100 = {key: val for key, val in new_rank_list} # 更新 rank_100\n",
    "                    \n",
    "                    stop_flag = False\n",
    "                else:\n",
    "                    skip_flag[i] = True\n",
    "        if stop_flag == True:\n",
    "            break\n",
    "        idx += 1\n",
    "    \n",
    "    return list(rank_100.items())"
   ]
  },
  {
   "cell_type": "code",
   "execution_count": 84,
   "id": "6965a2d0",
   "metadata": {},
   "outputs": [
    {
     "name": "stdout",
     "output_type": "stream",
     "text": [
      "[('Come', 3.0), ('廠廠', 2.25), ('S', 1.5), ('dailymo', 1.5), ('P', 1.262), ('林依晨', 0.99), ('培養出', 0.99), ('憂傷', 0.99), ('遺失', 0.99), ('登入', 0.99), ('胖胖', 0.99), ('希拉蕊', 0.99), ('Roo', 0.99), ('MakeAmericaGrea', 0.99), ('黎明', 0.9), ('漫畫', 0.891), ('愛上', 0.891), ('恭喜', 0.891), ('火車站', 0.891), ('加油', 0.891), ('如果', 0.873), ('金剛', 0.87), ('雷電', 0.87), ('醫生', 0.81), ('盡頭', 0.783), ('錢', 0.772), ('感謝', 0.759), ('gay', 0.75), ('Snowbaby', 0.75), ('分手', 0.75), ('咕咕', 0.75), ('瑞雪', 0.75), ('第一個', 0.733), ('p', 0.711), ('姆咪', 0.711), ('高中', 0.681), ('同志', 0.675), ('無法', 0.675), ('核核', 0.66), ('以色列', 0.66), ('雙層', 0.66), ('演', 0.631), ('工具人', 0.631), ('金牌', 0.63), ('台灣', 0.608), ('2016', 0.6), ('通知', 0.6), ('回收', 0.6), ('階段', 0.6), ('國考', 0.6), ('開罐器', 0.6), ('前衝', 0.6), ('張老師', 0.6), ('雞舞', 0.6), ('還開', 0.6), ('帶走', 0.6), ('科學園區', 0.6), ('買裝', 0.6), ('牛舞', 0.6), ('Toyo', 0.6), ('HellKi', 0.6), ('豬舞', 0.6), ('新年', 0.575), ('同性戀', 0.575), ('奮起湖', 0.57), ('被', 0.566), ('甲甲', 0.555), ('you', 0.54), ('詠春', 0.54), ('志明', 0.54), ('擠', 0.54), ('汐止人', 0.54), ('智商', 0.54), ('ABS', 0.54), ('新竹', 0.54), ('維修', 0.54), ('台大', 0.54), ('8591', 0.54), ('畢業', 0.54), ('隻', 0.539), ('系列', 0.528), ('青年', 0.513), ('3D', 0.51), ('當人', 0.51), ('婚姻', 0.51), ('打打', 0.51), ('莊心妍', 0.51), ('母系', 0.51), ('賄選', 0.51), ('下雨天', 0.51), ('哇操', 0.51), ('客家語', 0.51), ('催眠術', 0.51), ('學士', 0.51), ('控制', 0.51), ('甩掉', 0.51), ('中山', 0.51), ('網紅', 0.51), ('人會畫', 0.51), ('媽的', 0.51)]\n"
     ]
    }
   ],
   "source": [
    "def main():\n",
    "    file = open(\"./hw1-dataset.txt\", mode='r', encoding='utf-8')\n",
    "    articles = file.readlines()\n",
    "    # print(articles[:3])\n",
    "    # python 陣列: list\n",
    "    dataset = preprocessing(articles)\n",
    "    # print(dataset)\n",
    "    ### 統計高頻\n",
    "    tf_whole_dataset_table = word_tf_in_dataset(dataset)\n",
    "    tf_100 = list(tf_whole_dataset_table.items())[:100]\n",
    "    # print(tf_100)\n",
    "    \n",
    "    ### 建每篇文章的 tf table\n",
    "    tf_per_article_table = dict()\n",
    "    for article_no in range(len(dataset)):\n",
    "        tf_per_article_table[article_no] = tf(dataset[article_no])\n",
    "        # print(tf_per_article_table[article_no])\n",
    "    # print(tf_per_article_table)\n",
    "    # print(pd.DataFrame(list(list(tf_per_article_table.values())[0].items()), columns=['word', 'tf']))\n",
    "    \n",
    "    ### 建 idf table\n",
    "    idf_table = idf(tf_per_article_table)\n",
    "    # print(idf_table)\n",
    "    \n",
    "    ### 統計 tf-idf 高\n",
    "    tf_idf_table = dict()\n",
    "    for article_no in range(len(dataset)):\n",
    "        tf_idf_table[article_no] = tf_idf(tf_per_article_table[article_no], idf_table)\n",
    "    # print(tf_idf_table)\n",
    "    tf_idf_100 = rank_100(tf_idf_table)\n",
    "    # print(tf_idf_100)\n",
    "    \n",
    "    file.close()\n",
    "main()\n",
    "\n",
    "        \n",
    "    "
   ]
  },
  {
   "cell_type": "code",
   "execution_count": null,
   "id": "11bffbd5",
   "metadata": {},
   "outputs": [],
   "source": []
  }
 ],
 "metadata": {
  "kernelspec": {
   "display_name": "Python 3",
   "language": "python",
   "name": "python3"
  },
  "language_info": {
   "codemirror_mode": {
    "name": "ipython",
    "version": 3
   },
   "file_extension": ".py",
   "mimetype": "text/x-python",
   "name": "python",
   "nbconvert_exporter": "python",
   "pygments_lexer": "ipython3",
   "version": "3.8.8"
  }
 },
 "nbformat": 4,
 "nbformat_minor": 5
}
