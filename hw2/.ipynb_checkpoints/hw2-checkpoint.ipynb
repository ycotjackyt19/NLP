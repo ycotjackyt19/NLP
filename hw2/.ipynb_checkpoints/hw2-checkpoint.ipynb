{
 "cells": [
  {
   "cell_type": "code",
   "execution_count": 29,
   "id": "f805af11",
   "metadata": {},
   "outputs": [],
   "source": [
    "import requests\n",
    "from bs4 import BeautifulSoup\n",
    "import re\n",
    "import json"
   ]
  },
  {
   "cell_type": "code",
   "execution_count": 6,
   "id": "62ce62fd",
   "metadata": {},
   "outputs": [],
   "source": [
    "def get_webpage_section(soup, tag, attr_type, val): # \n",
    "    # r = requests.get(url)\n",
    "    # soup = BeautifulSoup(r.text, \"html.parser\")\n",
    "    if attr_type == \"id\":\n",
    "        result = soup.find(tag, id=val)\n",
    "    elif attr_type == \"class\":\n",
    "        result = soup.find_all(tag, class_=val)\n",
    "    return result"
   ]
  },
  {
   "cell_type": "code",
   "execution_count": 36,
   "id": "62391f04",
   "metadata": {},
   "outputs": [],
   "source": [
    "def get_movies_url(menuUrl):\n",
    "    moviePages = list()\n",
    "    while True:\n",
    "        r = requests.get(menuUrl)\n",
    "        soup = BeautifulSoup(r.text, \"html.parser\")\n",
    "        movieList = get_webpage_section(soup, \"div\", \"class\", \"release_movie_name\")\n",
    "        for m in movieList:\n",
    "            movieChiName = re.sub(r'\\s', '', m.select(\"a\")[0].text)\n",
    "            # movieEngName = re.sub(r'\\s', '', m.select(\"a\")[1].text)\n",
    "            movieUrl = m.select(\"a\")[0]['href']\n",
    "            moviePages.append([movieChiName, movieUrl])\n",
    "            \n",
    "        ### 掃每一頁\n",
    "        nextPage = get_webpage_section(soup, \"li\", \"class\", \"nexttxt\")\n",
    "        if nextPage != [] and nextPage[0].find(\"a\") != None: # 若有下一頁, 更新 menuUrl 為下頁網址\n",
    "            menuUrl = nextPage[0].find(\"a\")['href']\n",
    "        else: break\n",
    "    return moviePages"
   ]
  },
  {
   "cell_type": "code",
   "execution_count": 51,
   "id": "d421b81e",
   "metadata": {},
   "outputs": [],
   "source": [
    "def get_movies_info(movieInfo): # movieInfo: ['自殺突擊隊：集結', 'TheSuicideSquad', 'https://movies.yahoo.com.tw/movieinfo_main/%E8%87%AA%E6%AE%BA%E7%AA%81%E6%93%8A%E9%9A%8A-%E9%9B%86%E7%B5%90-the-suicide-squad-11328']\n",
    "    r = requests.get(movieInfo[1])\n",
    "    soup = BeautifulSoup(r.text, \"html.parser\")\n",
    "    # English Name\n",
    "    engNameSec = get_webpage_section(soup, \"div\", \"class\", \"movie_intro_info_r\")[0]\n",
    "    engName = engNameSec.find(\"h3\").text\n",
    "    movieInfo.append(re.sub(r'\\s', '', engName))\n",
    "    \n",
    "    # 分類\n",
    "    movieClassSec = get_webpage_section(soup, \"div\", \"class\", \"level_name_box\")[0]\n",
    "    movieInfo.append([re.sub(r'\\s', '', movieCls.text) for movieCls in movieClassSec.select(\"a\")])\n",
    "    \n",
    "    # 上映日期\n",
    "    movieRelTimeSec = get_webpage_section(soup, \"div\", \"class\", \"movie_intro_info_r\")[0]\n",
    "    movieInfo.append(movieRelTimeSec.find(\"span\").text[5:]) # 上映日期：2021-08-05\n",
    "    \n",
    "    # 劇情介紹\n",
    "    movieStory = get_webpage_section(soup, \"span\", \"id\", \"story\")\n",
    "    movieInfo.append(re.sub(r'\\s', '', movieStory.text))\n",
    "\n",
    "    return movieInfo[:1] + movieInfo[2:]\n",
    "    # print(movieClass)\n",
    "    # input()"
   ]
  },
  {
   "cell_type": "code",
   "execution_count": 35,
   "id": "2faca1d6",
   "metadata": {},
   "outputs": [],
   "source": [
    "def pack_to_json(movieInfoList):\n",
    "    movieJson = dict()\n",
    "    for idx in range(len(movieInfoList)):\n",
    "        movie_dict = dict()\n",
    "        for jdx in range(len(movieInfoList[idx])):\n",
    "            if jdx == 0: movie_dict['Chinese Name'] = movieInfoList[idx][jdx]\n",
    "            elif jdx == 1: movie_dict['English Name'] = movieInfoList[idx][jdx]\n",
    "            elif jdx == 2: movie_dict['Movie Category'] = movieInfoList[idx][jdx]\n",
    "            elif jdx == 3: movie_dict['Release Date'] = movieInfoList[idx][jdx]\n",
    "            elif jdx == 4: movie_dict['Story Intro'] = movieInfoList[idx][jdx]\n",
    "        movieJson[ str(idx) ] = movie_dict\n",
    "    return movieJson"
   ]
  },
  {
   "cell_type": "code",
   "execution_count": 62,
   "id": "a1c9e76b",
   "metadata": {},
   "outputs": [],
   "source": [
    "def get_actors(movieList):\n",
    "    ActorsUrlList = list()\n",
    "    ActorSet = set()\n",
    "    for movie in movieList: # movie: [Name, Url]\n",
    "        r = requests.get(movie[1])\n",
    "        soup = BeautifulSoup(r.text, \"html.parser\")\n",
    "        # 演員 Url\n",
    "        Actors = get_webpage_section(soup, \"ul\", \"class\", \"starlist\")\n",
    "        if Actors != []:\n",
    "            for actor in Actors[0].find_all(\"a\"):\n",
    "                if actor not in ActorSet:\n",
    "                    ActorSet.add(actor)\n",
    "                    ActorsUrlList.append(actor['href'])\n",
    "    # print(ActorsUrlList)\n",
    "    return ActorsUrlList"
   ]
  },
  {
   "cell_type": "code",
   "execution_count": 63,
   "id": "304a9bd5",
   "metadata": {
    "scrolled": true
   },
   "outputs": [
    {
     "name": "stdout",
     "output_type": "stream",
     "text": [
      "['https://movies.yahoo.com.tw/name_main/%E9%A6%AE%E8%BF%AA%E7%B4%A2-vin-diesel-1217', 'https://movies.yahoo.com.tw/name_main/%E8%8E%8E%E8%8E%89%E8%B3%BD%E9%9A%86-charlize-theron-249', 'https://movies.yahoo.com.tw/name_main/%E7%B4%84%E7%BF%B0%E5%B8%8C%E5%8D%97-john-cena-39128', 'https://movies.yahoo.com.tw/name_main/%E6%B5%B7%E5%80%AB%E7%B1%B3%E8%98%AD-helen-mirren-3399', 'https://movies.yahoo.com.tw/name_main/%E8%9C%9C%E9%9B%AA%E5%85%92%E7%BE%85%E8%8E%89%E8%91%9B%E8%8C%B2-michelle-rodriguez-940', 'https://movies.yahoo.com.tw/name_main/%E5%A8%9C%E5%A1%94%E8%8E%89%E8%89%BE%E6%9B%BC%E7%B4%90-nathalie-emmanuel-42742', 'https://movies.yahoo.com.tw/name_main/%E8%90%8A%E6%81%A9%E9%9B%B7%E8%AB%BE%E6%96%AF-ryan-reynolds-225', 'https://movies.yahoo.com.tw/name_main/%E5%A1%94%E4%BC%8A%E5%8A%A0%E7%B6%AD%E8%BF%AA%E6%8F%90-taika-waititi-25265', 'https://movies.yahoo.com.tw/name_main/%E9%82%B1%E7%A6%AE%E6%BF%A4-12755', 'https://movies.yahoo.com.tw/name_main/%E8%94%A1%E5%8D%93%E5%A6%8D-charlene-choi-27662', 'https://movies.yahoo.com.tw/name_main/%E5%91%A8%E6%9F%8F%E8%B1%AA-pakho-chau-40115', 'https://movies.yahoo.com.tw/name_main/%E6%83%A0%E8%8B%B1%E7%B4%85-kara-wai-20219', 'https://movies.yahoo.com.tw/name_main/%E4%BF%9D%E7%BE%85%E8%8C%83%E8%B5%AB%E6%96%87-paul-verhoeven-156', 'https://movies.yahoo.com.tw/name_main/%E9%BA%A5%E5%8F%AF%E9%81%93%E6%A0%BC%E6%8B%89%E6%96%AF-michael-douglas-2412', 'https://movies.yahoo.com.tw/name_main/%E8%8E%8E%E6%9C%97%E5%8F%B2%E6%9D%B1-sharon-stone-2424', 'https://movies.yahoo.com.tw/name_main/%E5%8D%A1%E6%B4%9B%E8%BE%9B%E7%89%B9%E6%9B%BC-carlo-hintermann-48782', 'https://movies.yahoo.com.tw/name_main/%E6%9F%A5%E7%88%BE%E6%96%AF%E4%B8%B9%E6%96%AF-charles-dance-463', 'https://movies.yahoo.com.tw/name_main/%E6%B4%9B%E7%89%B9%E5%BC%97%E8%B2%9D%E5%85%8B-lotte-verbeek-48783', 'https://movies.yahoo.com.tw/name_main/%E9%9B%85%E5%90%84%E7%89%B9%E5%80%AB%E5%B8%83%E9%9B%B7-jacob-tremblay-38192', 'https://movies.yahoo.com.tw/name_main/%E6%9D%8E%E6%BB%84%E6%9D%B1-lee-changdong-7073', 'https://movies.yahoo.com.tw/name_main/%E4%BD%A9%E5%8D%93%E9%98%BF%E8%8E%AB%E5%A4%9A%E7%93%A6-pedro-almodovar-1037', 'https://movies.yahoo.com.tw/name_main/%E8%92%82%E5%A6%B2%E7%B5%B2%E9%9B%B2%E9%A0%93-tilda-swinton-920', 'https://movies.yahoo.com.tw/name_main/%E5%A5%87%E5%A3%AB%E5%8B%9E%E6%96%AF%E5%9F%BA-krzysztof-kieslowski-20708', 'https://movies.yahoo.com.tw/name_main/%E4%BC%8A%E8%93%AE%E9%9B%85%E5%90%84-irene-jacob-18893', 'https://movies.yahoo.com.tw/name_main/%E5%BC%B5%E6%A6%95%E5%AE%B9-sandrine-pinna-1132', 'https://movies.yahoo.com.tw/name_main/%E8%A9%B9%E5%A7%86%E6%96%AF%E5%B2%A1%E6%81%A9-james-gunn-1866', 'https://movies.yahoo.com.tw/name_main/%E7%91%AA%E6%A0%BC%E7%BE%85%E6%AF%94-margot-robbie-419', 'https://movies.yahoo.com.tw/name_main/%E5%96%AC%E7%88%BE%E9%87%91%E7%B4%8D%E6%9B%BC-joel-kinnaman-1322', 'https://movies.yahoo.com.tw/name_main/%E5%B8%AD%E7%B6%AD%E6%96%AF%E5%8F%B2%E7%89%B9%E9%BE%8D-sylvester-stallone-846', 'https://movies.yahoo.com.tw/name_main/%E8%96%87%E6%8B%89%E6%88%B4%E7%B6%AD%E6%96%AF-viola-davis-1141', 'https://movies.yahoo.com.tw/name_main/%E4%BC%8A%E5%8D%93%E7%91%9E%E6%96%AF%E8%89%BE%E5%B7%B4-idris-elba-632', 'https://movies.yahoo.com.tw/name_main/%E5%82%91%E5%AF%87%E7%89%B9%E5%B0%BC-jai-courtney-1190', 'https://movies.yahoo.com.tw/name_main/%E5%B7%A8%E7%9F%B3%E5%BC%B7%E6%A3%AE-dwayne-johnson-1216', 'https://movies.yahoo.com.tw/name_main/%E8%89%BE%E8%9C%9C%E8%8E%89%E5%B8%83%E6%9C%97-emily-blunt-772', 'https://movies.yahoo.com.tw/name_main/%E5%82%91%E5%85%8B%E6%87%B7%E7%89%B9%E9%9C%8D%E7%88%BE-jack-whitehall-45102', 'https://movies.yahoo.com.tw/name_main/%E4%BF%9D%E7%BE%85%E5%90%89%E9%A6%AC%E8%92%82-paul-giamatti-19', 'https://movies.yahoo.com.tw/name_main/%E8%89%BE%E5%BE%B7%E6%A0%BC%E6%8B%89%E7%B1%B3%E9%9B%B7%E8%8C%B2-edgar-ramirez-536', 'https://movies.yahoo.com.tw/name_main/%E5%85%A7%E5%B1%B1%E6%98%82%E8%BC%9D-kouki-uchiyama-1412', 'https://movies.yahoo.com.tw/name_main/%E5%B3%B6%E5%B4%8E%E4%BF%A1%E9%95%B7-42398', 'https://movies.yahoo.com.tw/name_main/%E8%96%A9%E5%B7%B4%E6%96%AF%E6%B1%80%E6%9D%8E%E5%B8%AD%E8%8C%B2-sebastien-lifshitz-48721', 'https://movies.yahoo.com.tw/name_main/%E9%A6%AC%E5%90%89%E5%BE%B7%E9%A6%AC%E5%90%89%E8%BF%AA-majid-majidi-48727', 'https://movies.yahoo.com.tw/name_main/%E8%B3%88%E7%93%A6%E5%BE%B7%E4%BC%8A%E8%96%A9%E8%92%82-javad-ezzati-48728', 'https://movies.yahoo.com.tw/name_main/%E7%BE%85%E9%9C%8D%E6%8B%89%E8%96%A9%E9%A6%AC%E5%B0%BC-rouhollah-zamani-48729', 'https://movies.yahoo.com.tw/name_main/%E9%98%BF%E9%87%8C%E7%B4%8D%E8%A5%BF%E9%87%8C%E5%AE%89-ali-nassirian-48730', 'https://movies.yahoo.com.tw/name_main/%E5%A5%88%E6%B2%99%E9%A6%AC%E8%98%AD-m-night-shyamalan-1905', 'https://movies.yahoo.com.tw/name_main/%E8%89%BE%E8%8E%89%E8%8E%8E%E6%96%AF%E5%9D%8E%E5%80%AB-eliza-scanlen-47029', 'https://movies.yahoo.com.tw/name_main/%E8%89%BE%E5%8A%9B%E5%85%8B%E6%96%AF%E6%B2%83%E7%88%BE%E5%A4%AB-alex-wolff-14666', 'https://movies.yahoo.com.tw/name_main/%E7%B6%AD%E7%90%AA%E5%85%8B%E9%9B%B7%E6%99%AE-vicky-krieps-25991', 'https://movies.yahoo.com.tw/name_main/%E8%93%8B%E7%88%BE%E5%98%89%E8%A5%BF%E4%BA%9E%E8%B2%9D%E7%B4%8D-gael-garcia-bernal-124', 'https://movies.yahoo.com.tw/name_main/%E5%B0%8F%E6%A0%97%E6%97%AC-shun-oguri-1035', 'https://movies.yahoo.com.tw/name_main/%E6%98%9F%E9%87%8E%E6%BA%90-hoshino-gen-40776', 'https://movies.yahoo.com.tw/name_main/%E6%9D%BE%E9%87%8D%E8%B1%90-yutaka-matsushige-35948', 'https://movies.yahoo.com.tw/name_main/%E5%B8%82%E5%B7%9D%E5%AF%A6%E6%97%A5%E5%AD%90-mikako-ichikawa-22376', 'https://movies.yahoo.com.tw/name_main/%E4%B8%AD%E5%B7%9D%E5%A4%A7%E5%BF%97-taishi-nagakawa-39947', 'https://movies.yahoo.com.tw/name_main/%E5%A0%A4%E7%9C%9F%E4%B8%80-shinichi-tsutsumi-153', 'https://movies.yahoo.com.tw/name_main/%E6%B8%85%E5%8E%9F%E6%9E%9C%E8%80%B6-34874', 'https://movies.yahoo.com.tw/name_main/%E5%8C%97%E6%9D%91%E5%8C%A0%E6%B5%B7-41036', 'https://movies.yahoo.com.tw/name_main/%E7%9F%B3%E4%BA%95%E6%9D%8F%E5%A5%88-ishii-anna-48755', 'https://movies.yahoo.com.tw/name_main/%E5%B7%B4%E6%8F%90%E6%96%AF%E5%8B%92%E8%B2%A2-patrice-leconte-48774', 'https://movies.yahoo.com.tw/name_main/%E5%B0%9A%E7%BE%85%E5%A5%91%E5%A4%AB-jean-rochefort-48775', 'https://movies.yahoo.com.tw/name_main/%E5%AE%89%E5%A8%9C%E8%B3%88%E5%88%A9%E5%AE%89%E7%B4%8D-anna-galiena-15161', 'https://movies.yahoo.com.tw/name_main/%E5%BD%B9%E6%89%80%E5%BB%A3%E5%8F%B8-koji-yakusho-2394', 'https://movies.yahoo.com.tw/name_main/%E9%95%B7%E6%BE%A4%E9%9B%85%E7%BE%8E-masami-nagasawa-368', 'https://movies.yahoo.com.tw/name_main/%E6%A9%8B%E7%88%AA%E5%8A%9F-isao-hashizume-1215', 'https://movies.yahoo.com.tw/name_main/%E8%96%87%E6%8B%89%E6%B3%95%E8%9C%9C%E5%98%89-vera-farmiga-1059', 'https://movies.yahoo.com.tw/name_main/%E6%B4%BE%E7%BF%A0%E5%85%8B%E5%A8%81%E7%88%BE%E6%A3%AE-patrick-wilson-3540', 'https://movies.yahoo.com.tw/name_main/%E5%B1%B1%E5%B0%BC%E5%85%8B%E8%B2%BB%E8%8C%B2%E5%A4%AB-dzhanik-fayziev-42808', 'https://movies.yahoo.com.tw/name_main/%E7%B6%AD%E5%A4%9A%E8%8E%89%E4%BA%9E%E9%98%BF%E6%88%88%E6%8B%89%E5%AF%87%E5%A8%83-viktoriya-agalakova-43263', 'https://movies.yahoo.com.tw/name_main/%E8%91%89%E5%A4%AB%E6%A0%B9%E5%B0%BC%E7%BE%85%E6%9B%BC%E4%BD%90%E5%A4%AB-evgeniy-romantsov-48720', 'https://movies.yahoo.com.tw/name_main/%E6%9C%AC%E5%BB%A3%E5%85%8B%E8%A1%8C-10019', 'https://movies.yahoo.com.tw/name_main/%E6%96%B0%E7%94%B0%E7%9C%9F%E5%8A%8D%E4%BD%91-45201', 'https://movies.yahoo.com.tw/name_main/%E4%B8%89%E6%B5%A6%E6%98%A5%E9%A6%AC-haruma-miura-379', 'https://movies.yahoo.com.tw/name_main/%E6%9D%BE%E5%B1%B1%E7%A0%94%E4%B8%80-kenichi-matsuyama-1023', 'https://movies.yahoo.com.tw/name_main/%E6%9E%97%E5%AE%B6%E6%A3%9F-gordon-lam-32756', 'https://movies.yahoo.com.tw/name_main/%E8%A2%81%E5%AF%8C%E8%8F%AF-ben-yuen-44457', 'https://movies.yahoo.com.tw/name_main/%E8%96%A9%E8%8F%B2%E5%85%A7%E5%B8%83-safy-nebbou-45502', 'https://movies.yahoo.com.tw/name_main/%E6%8B%89%E6%96%90%E7%88%BE%E4%BD%A9%E6%9D%BE%E7%B4%8D%E8%8C%B2-raphael-personnaz-23840', 'https://movies.yahoo.com.tw/name_main/%E8%8F%85%E7%94%B0%E5%B0%87%E6%9A%89-40598', 'https://movies.yahoo.com.tw/name_main/%E6%9C%89%E6%9D%91%E6%9E%B6%E7%B4%94-kasumi-arimura-527', 'https://movies.yahoo.com.tw/name_main/%E5%B0%8F%E7%94%B0%E5%88%87%E8%AE%93-jo-odagiri-579', 'https://movies.yahoo.com.tw/name_main/%E5%87%B1%E7%89%B9%E8%95%AD%E8%98%AD-cate-shortland-41257', 'https://movies.yahoo.com.tw/name_main/%E5%8F%B2%E5%98%89%E8%95%BE%E5%96%AC%E9%9F%93%E6%A3%AE-scarlett-johansson-1349', 'https://movies.yahoo.com.tw/name_main/%E4%BD%9B%E8%98%BF%E5%80%AB%E7%B5%B2%E6%99%AE%E4%BC%8A-florence-pugh-45121', 'https://movies.yahoo.com.tw/name_main/%E5%B0%8F%E5%8B%9E%E5%8B%83%E9%81%93%E5%B0%BC-robert-downey-jr-1075', 'https://movies.yahoo.com.tw/name_main/%E7%91%9E%E7%A7%8B%E6%87%B7%E8%8C%B2-rachel-weisz-2295', 'https://movies.yahoo.com.tw/name_main/%E8%8C%B1%E8%92%82%E7%A6%8F%E6%96%AF%E7%89%B9-jodie-foster-1077', 'https://movies.yahoo.com.tw/name_main/%E5%A1%94%E5%93%88%E6%8B%89%E8%BE%9B-tahar-rahim-25259', 'https://movies.yahoo.com.tw/name_main/%E9%9B%AA%E7%90%B3%E4%BC%8D%E5%BE%B7%E8%8E%89-shailene-woodley-24725', 'https://movies.yahoo.com.tw/name_main/%E7%8F%AD%E5%B0%BC%E8%BF%AA%E5%85%8B%E5%BA%B7%E6%9F%8F%E6%8B%9C%E5%8D%80-benedict-cumberbatch-1218', 'https://movies.yahoo.com.tw/name_main/%E5%87%B1%E8%96%A9%E7%90%B3%E4%B8%B9%E5%A6%AE%E8%8A%99-catherine-deneuve-148', 'https://movies.yahoo.com.tw/name_main/%E6%96%87%E6%A3%AE%E5%BE%B7%E8%BF%AA%E6%81%A9-vincent-dedienne-48537', 'https://movies.yahoo.com.tw/name_main/%E6%84%9B%E9%BA%97%E7%B5%B2%E8%B2%9D%E8%90%8A%E8%BF%AA-alice-belaidi-48538', 'https://movies.yahoo.com.tw/name_main/%E4%BC%8A%E8%97%A4%E6%AD%A5-38672', 'https://movies.yahoo.com.tw/name_main/%E6%B1%9F%E5%8F%A3%E6%B4%8B%E4%BB%8B-yosuke-eguchi-961', 'https://movies.yahoo.com.tw/name_main/%E5%8A%89%E8%8B%B1%E5%96%84-48766', 'https://movies.yahoo.com.tw/name_main/%E9%87%91%E7%B4%A0%E6%85%A7-48767', 'https://movies.yahoo.com.tw/name_main/%E9%84%AD%E5%85%81%E9%8C%AB-39899', 'https://movies.yahoo.com.tw/name_main/%E6%9D%8E%E5%9C%AD%E8%B3%A2-48768', 'https://movies.yahoo.com.tw/name_main/%E5%B1%B1%E7%B9%86%E5%82%91%E5%85%8B%E6%A3%AE-samuel-l-jackson-1529', 'https://movies.yahoo.com.tw/name_main/%E8%93%8B%E7%91%9E%E5%A5%87-guy-ritchie-764', 'https://movies.yahoo.com.tw/name_main/%E5%82%91%E6%A3%AE%E5%8F%B2%E5%A1%94%E6%A3%AE-jason-statham-100', 'https://movies.yahoo.com.tw/name_main/%E5%96%AC%E8%A8%B1%E5%93%88%E5%A5%88%E7%89%B9-josh-hartnett-2277', 'https://movies.yahoo.com.tw/name_main/%E5%8F%B2%E8%80%83%E7%89%B9%E4%BC%8A%E6%96%AF%E5%A8%81%E7%89%B9-scott-eastwood-442', 'https://movies.yahoo.com.tw/name_main/%E5%B0%BC%E7%88%BE%E6%9F%8F%E6%A0%BC-neil-burger-274', 'https://movies.yahoo.com.tw/name_main/%E6%B3%B0%E8%AC%9D%E9%87%8C%E4%B8%B9-tye-sheridan-345', 'https://movies.yahoo.com.tw/name_main/%E8%8E%89%E8%8E%89%E8%98%BF%E7%B5%B2%E6%88%B4%E6%99%AE-lily-rose-depp-21098', 'https://movies.yahoo.com.tw/name_main/%E8%8F%B2%E6%98%82%E6%87%B7%E6%B5%B7%E5%BE%B7-fionn-whitehead-40689', 'https://movies.yahoo.com.tw/name_main/%E6%9F%AF%E6%9E%97%E6%B3%95%E6%B4%9B-colin-farrell-988', 'https://movies.yahoo.com.tw/name_main/%E9%A6%AC%E5%BF%97%E7%BF%94-33722', 'https://movies.yahoo.com.tw/name_main/%E9%99%B3%E5%98%89%E6%A8%BA-ella-17435', 'https://movies.yahoo.com.tw/name_main/%E5%BE%90%E8%A9%A3%E5%B8%86-38024', 'https://movies.yahoo.com.tw/name_main/%E6%92%92%E5%9F%BA%E5%8A%AA-42845', 'https://movies.yahoo.com.tw/name_main/%E5%9D%82%E9%83%A8%E5%BA%B7%E4%BA%8C-9980', 'https://movies.yahoo.com.tw/name_main/%E5%AE%AE%E5%B4%8E%E8%91%B5-aoi-miyazaki-206', 'https://movies.yahoo.com.tw/name_main/%E5%AD%94%E5%8A%89-gong-yoo-694', 'https://movies.yahoo.com.tw/name_main/%E6%9C%B4%E5%AF%B6%E5%8A%8D-park-bo-gum-23309', 'https://movies.yahoo.com.tw/name_main/%E8%B6%99%E5%AE%87%E9%8E%AE-41531', 'https://movies.yahoo.com.tw/name_main/%E5%90%89%E5%A7%86%E5%8D%A1%E7%B6%AD%E4%BD%90-jim-caviezel-1279', 'https://movies.yahoo.com.tw/name_main/%E8%B3%88%E8%A8%B1%E5%8B%9E%E6%A3%AE-josh-lawson-19958', 'https://movies.yahoo.com.tw/name_main/%E7%9C%9F%E7%94%B0%E5%BB%A3%E4%B9%8B-hiroyuki-sanada-1307', 'https://movies.yahoo.com.tw/name_main/%E6%B7%BA%E9%87%8E%E5%BF%A0%E4%BF%A1-tadanobu-asano-921', 'https://movies.yahoo.com.tw/name_main/%E5%BA%B7%E5%A6%AE%E5%B0%BC%E7%88%BE%E6%A3%AE-connie-nielsen-2496', 'https://movies.yahoo.com.tw/name_main/%E9%82%B1%E6%BE%A4-34925', 'https://movies.yahoo.com.tw/name_main/%E8%A8%B1%E7%91%8B%E7%94%AF-38126', 'https://movies.yahoo.com.tw/name_main/%E8%97%8D%E8%91%A6%E8%8F%AF-31901', 'https://movies.yahoo.com.tw/name_main/%E5%BC%B5%E5%90%89%E5%AE%89-chong-keat-aun-48153', 'https://movies.yahoo.com.tw/name_main/%E5%A1%94%E7%91%9E%E5%85%8B%E5%B8%83%E9%81%94%E9%87%8C-tarek-boudali-42021', 'https://movies.yahoo.com.tw/name_main/%E8%8F%B2%E5%8A%9B%E6%99%AE%E6%8B%89%E7%B4%B9-philippe-lacheau-23585', 'https://movies.yahoo.com.tw/name_main/%E5%B0%BC%E5%8F%A4%E6%8B%89%E6%96%AF%E9%A6%AC%E9%87%8C%E8%80%B6-nicolas-marie-48293', 'https://movies.yahoo.com.tw/name_main/%E5%BC%B7%E5%B0%BC%E6%88%B4%E6%99%AE-johnny-depp-739', 'https://movies.yahoo.com.tw/name_main/%E4%BD%9B%E7%91%9E%E6%96%AF%E7%89%B9%E6%87%B7%E7%89%B9%E5%85%8B-forest-whitaker-38', 'https://movies.yahoo.com.tw/name_main/%E5%B8%8C%E4%BA%9E%E6%BA%AB%E6%BC%A2-shea-whigham-42613', 'https://movies.yahoo.com.tw/name_main/%E4%B8%B9%E5%B0%BC%E6%96%AF%E6%9D%9C%E6%A0%B9-dennis-dugan-5276', 'https://movies.yahoo.com.tw/name_main/%E9%BB%9B%E5%AE%89%E5%9F%BA%E9%A0%93-diane-keaton-3549', 'https://movies.yahoo.com.tw/name_main/%E5%82%91%E7%91%9E%E7%B1%B3%E8%89%BE%E6%9C%97-jeremy-irons-183', 'https://movies.yahoo.com.tw/name_main/%E7%91%AA%E5%A7%AC%E8%91%9B%E7%91%9E%E7%B5%B2-maggie-grace-1129', 'https://movies.yahoo.com.tw/name_main/%E6%84%9B%E8%8E%89%E6%A3%AE%E5%B8%83%E9%87%8C-alison-brie-517', 'https://movies.yahoo.com.tw/name_main/%E5%85%8B%E9%87%8C%E6%96%AF%E5%A4%9A%E7%A6%8F%E7%B1%B3%E8%8C%B2%E5%B8%83%E6%8B%89%E6%96%AF-christopher-mintz-plasse-1249', 'https://movies.yahoo.com.tw/name_main/%E5%87%B1%E8%8E%89%E8%8E%AB%E9%87%8C%E6%A0%B9-carey-mulligan-864', 'https://movies.yahoo.com.tw/name_main/%E9%99%B3%E5%AE%8F%E4%B8%80-chen-hung-i-10214', 'https://movies.yahoo.com.tw/name_main/%E9%83%AD%E9%9B%AA%E8%8A%99-29774', 'https://movies.yahoo.com.tw/name_main/%E8%AC%9D%E6%B2%9B%E6%81%A9-37850', 'https://movies.yahoo.com.tw/name_main/%E9%BB%83%E7%80%9E%E6%80%A1-%E5%B0%8F%E8%96%AB-37742', 'https://movies.yahoo.com.tw/name_main/%E5%90%B3%E6%9C%8B%E5%A5%89-37274', 'https://movies.yahoo.com.tw/name_main/%E6%A5%8A%E7%A5%90%E5%AF%A7-tony-yang-1392', 'https://movies.yahoo.com.tw/name_main/%E9%99%B3%E4%BB%A5%E6%96%87-28196', 'https://movies.yahoo.com.tw/name_main/%E7%8E%8B%E6%B7%A8-36746', 'https://movies.yahoo.com.tw/name_main/%E6%9E%97%E5%93%B2%E7%86%B9-41089', 'https://movies.yahoo.com.tw/name_main/%E8%B7%AF%E9%99%BD-12101', 'https://movies.yahoo.com.tw/name_main/%E9%9B%B7%E4%BD%B3%E9%9F%B3-31961', 'https://movies.yahoo.com.tw/name_main/%E6%A5%8A%E5%86%AA-mini-yang-38390', 'https://movies.yahoo.com.tw/name_main/%E8%91%A3%E5%AD%90%E5%81%A5-28880', 'https://movies.yahoo.com.tw/name_main/%E4%BA%8E%E5%92%8C%E5%81%89-48385', 'https://movies.yahoo.com.tw/name_main/%E5%85%8B%E8%98%BF%E4%BC%8A%E6%91%A9%E8%95%BE%E8%8C%B2-chloe-grace-moretz-371', 'https://movies.yahoo.com.tw/name_main/%E9%BA%A5%E5%8F%AF%E6%BD%98%E7%B4%8D-michael-pena-1376', 'https://movies.yahoo.com.tw/name_main/%E5%90%B3%E6%85%B7%E4%BB%81-37241', 'https://movies.yahoo.com.tw/name_main/%E5%82%85%E5%AD%9F%E6%9F%8F-43023', 'https://movies.yahoo.com.tw/name_main/%E9%84%AD%E4%BA%BA%E7%A2%A9-cheng-jen-shuo-39848', 'https://movies.yahoo.com.tw/name_main/%E8%AC%9D%E6%AC%A3%E7%A9%8E-38801', 'https://movies.yahoo.com.tw/name_main/%E9%99%B3%E7%AB%B9%E6%98%87-bamboo-chen-28256', 'https://movies.yahoo.com.tw/name_main/%E9%BB%83%E5%B0%9A%E7%A6%BE-shang-ho-huang-30368', 'https://movies.yahoo.com.tw/name_main/%E5%90%B3%E9%9C%87%E4%BA%9E-13457', 'https://movies.yahoo.com.tw/name_main/%E9%AB%98%E6%8D%B7-jack-kao-734', 'https://movies.yahoo.com.tw/name_main/%E9%BE%8D%E5%8A%AD%E8%8F%AF-33308', 'https://movies.yahoo.com.tw/name_main/%E5%82%91%E7%B1%B3%E7%A6%8F%E5%85%8B%E6%96%AF-jamie-foxx-1181', 'https://movies.yahoo.com.tw/name_main/%E8%92%82%E5%A8%9C%E8%B2%BB-tina-fey-803', 'https://movies.yahoo.com.tw/name_main/%E4%BA%A8%E5%88%A9%E9%AB%98%E4%B8%81-henry-golding-43851', 'https://movies.yahoo.com.tw/name_main/%E8%96%A9%E7%91%AA%E6%8B%89%E8%96%87%E6%98%8E-samara-weaving-42969', 'https://movies.yahoo.com.tw/name_main/%E4%BC%8A%E7%A7%91%E7%83%8F%E8%89%BE%E6%96%AF-iko-uwais-18827', 'https://movies.yahoo.com.tw/name_main/%E8%95%BE%E8%B2%9D%E5%8D%A1%E5%BC%97%E6%A0%BC%E6%A3%AE-rebecca-ferguson-1397', 'https://movies.yahoo.com.tw/name_main/%E8%AD%9A%E8%92%82%E7%B4%90%E9%A0%93-thandie-newton-3726', 'https://movies.yahoo.com.tw/name_main/%E4%BC%91%E5%82%91%E5%85%8B%E6%9B%BC-hugh-jackman-721', 'https://movies.yahoo.com.tw/name_main/%E5%90%B3%E5%BD%A5%E7%A5%96-daniel-wu-37313', 'https://movies.yahoo.com.tw/name_main/%E4%BA%9E%E6%AD%B7%E9%AE%91%E5%BE%B7%E6%BA%AB-alec-baldwin-792', 'https://movies.yahoo.com.tw/name_main/%E5%82%91%E5%A4%AB%E9%AB%98%E5%B8%83%E5%80%AB-jeff-goldblum-19406', 'https://movies.yahoo.com.tw/name_main/%E8%A9%B9%E5%A7%86%E6%96%AF%E9%A6%AC%E6%96%AF%E7%99%BB-james-marsden-269', 'https://movies.yahoo.com.tw/name_main/%E9%83%AD%E7%8F%8D%E5%BC%9F-10889', 'https://movies.yahoo.com.tw/name_main/%E5%90%B3%E5%AE%8F%E4%BF%AE-47919', 'https://movies.yahoo.com.tw/name_main/%E9%99%B3%E6%B7%91%E8%8A%B3-28091', 'https://movies.yahoo.com.tw/name_main/%E6%A5%8A%E5%B0%8F%E9%BB%8E-44723', 'https://movies.yahoo.com.tw/name_main/%E9%82%B1%E5%BF%97%E5%AE%87-46727', 'https://movies.yahoo.com.tw/name_main/%E9%99%B3%E5%8D%9A%E6%AD%A3-27896', 'https://movies.yahoo.com.tw/name_main/%E9%99%B8%E5%BC%88%E9%9D%9C-lu-yi-ching-33380', 'https://movies.yahoo.com.tw/name_main/%E8%B1%90%E5%B3%B6%E5%9C%AD%E4%BB%8B-10655', 'https://movies.yahoo.com.tw/name_main/%E6%9D%B1%E5%87%BA%E6%98%8C%E5%A4%A7-28841', 'https://movies.yahoo.com.tw/name_main/%E6%AB%BB%E4%BA%95%E5%AD%9D%E5%AE%8F-sakurai-takahiro-38789', 'https://movies.yahoo.com.tw/name_main/%E9%BA%A5%E9%9B%AF-maiwenn-48795', 'https://movies.yahoo.com.tw/name_main/%E8%8A%AC%E5%A6%AE%E4%BA%9E%E7%95%B6-fanny-ardant-243', 'https://movies.yahoo.com.tw/name_main/%E8%B7%AF%E6%98%93%E5%8D%A1%E7%91%9E-louis-garrel-3597', 'https://movies.yahoo.com.tw/name_main/%E7%91%AA%E7%90%B3%E8%8F%AF%E7%89%B9-marine-vacth-1331', 'https://movies.yahoo.com.tw/name_main/%E5%8A%A0%E4%BC%8A%E7%BE%85%E5%B8%83%E6%96%AF%E5%A1%94%E6%9B%BC%E5%BE%B7-jayro-bustamante-46251', 'https://movies.yahoo.com.tw/name_main/%E7%B1%B3%E5%88%A9%E7%A7%91%E7%B6%AD%E5%A5%87-boris-miljkovic-48804', 'https://movies.yahoo.com.tw/name_main/%E7%91%AA%E8%8E%89%E5%A8%9C%E9%98%BF%E5%B8%83%E6%8B%89%E8%8E%AB%E7%B6%AD%E5%A5%87-marina-abramovic-21764', 'https://movies.yahoo.com.tw/name_main/%E7%B4%84%E7%BF%B0%E5%8D%A1%E6%8B%89%E8%BE%9B%E6%96%AF%E5%9F%BA-john-krasinski-6533', 'https://movies.yahoo.com.tw/name_main/%E5%B8%AD%E5%B0%BC%E5%A2%A8%E8%8F%B2-cillian-murphy-40682', 'https://movies.yahoo.com.tw/name_main/%E5%90%89%E8%92%99%E7%BF%B0%E8%98%87-djimon-hounsou-1145', 'https://movies.yahoo.com.tw/name_main/%E7%B1%B3%E8%8E%89%E6%A3%AE%E8%A5%BF%E8%92%99%E6%96%AF-millicent-simmonds-41701', 'https://movies.yahoo.com.tw/name_main/%E6%B4%BE%E5%B4%94%E5%85%8B%E4%BC%91%E6%96%AF-patrick-hughes-1526', 'https://movies.yahoo.com.tw/name_main/%E8%8E%8E%E7%91%AA%E6%B5%B7%E8%80%B6%E5%85%8B-salma-hayek-1532', 'https://movies.yahoo.com.tw/name_main/%E6%91%A9%E6%A0%B9%E8%B2%BB%E9%87%8C%E6%9B%BC-morgan-freeman-2421', 'https://movies.yahoo.com.tw/name_main/%E5%AE%89%E6%9D%B1%E5%B0%BC%E5%A5%A7%E7%8F%AD%E5%BE%B7%E6%8B%89%E6%96%AF-antonio-banderas-2541', 'https://movies.yahoo.com.tw/name_main/%E6%B3%95%E8%98%AD%E5%85%8B%E8%91%9B%E9%87%8C%E8%AB%BE-frank-grillo-41443', 'https://movies.yahoo.com.tw/name_main/%E9%80%A3%E6%81%A9%E5%B0%BC%E9%81%9C-liam-neeson-381', 'https://movies.yahoo.com.tw/name_main/%E5%8B%9E%E5%80%AB%E6%96%AF%E8%B2%BB%E8%A8%B1%E6%9C%8B-laurence-fishburne-2673', 'https://movies.yahoo.com.tw/name_main/%E7%8F%AD%E5%82%91%E6%98%8E%E6%B2%83%E5%85%8B-benjamin-walker-1098', 'https://movies.yahoo.com.tw/name_main/%E6%B2%88%E5%BE%B7%E6%A0%B9-sim-deok-geun-48845', 'https://movies.yahoo.com.tw/name_main/%E9%87%91%E5%89%9B%E4%BA%8E-31064', 'https://movies.yahoo.com.tw/name_main/%E7%BE%85%E7%B5%B2%E6%8B%9C%E6%81%A9-rose-byrne-1226', 'https://movies.yahoo.com.tw/name_main/%E5%A4%9A%E5%A7%86%E7%B4%8D%E7%88%BE%E6%A0%BC%E9%87%8C%E6%A3%AE-domhnall-gleeson-1264', 'https://movies.yahoo.com.tw/name_main/%E9%BB%9B%E8%A5%BF%E8%95%BE%E5%BE%B7%E8%8E%89-daisy-ridley-16763', 'https://movies.yahoo.com.tw/name_main/%E4%BC%8A%E8%8E%89%E8%8E%8E%E7%99%BD%E6%88%B4%E6%AF%94%E5%9F%BA-elizabeth-debicki-576', 'https://movies.yahoo.com.tw/name_main/%E5%A4%A7%E8%A1%9B%E6%AD%90%E6%B4%9B%E6%B2%83-david-oyelowo-28553', 'https://movies.yahoo.com.tw/name_main/%E7%89%87%E5%B2%A1%E7%9B%B4%E4%BA%BA-naoto-22673', 'https://movies.yahoo.com.tw/name_main/%E5%9C%9F%E5%B1%8B%E5%A4%AA%E9%B3%B3-36599', 'https://movies.yahoo.com.tw/name_main/%E5%A4%A7%E6%B3%89%E6%B4%8B-yo-oizumi-1315', 'https://movies.yahoo.com.tw/name_main/%E7%9F%B3%E9%BB%91%E8%B3%A2-48652', 'https://movies.yahoo.com.tw/name_main/%E5%AF%BA%E8%84%85%E5%BA%B7%E6%96%87-48653', 'https://movies.yahoo.com.tw/name_main/%E9%99%B3%E5%AD%A3%E9%9C%9E-41331', 'https://movies.yahoo.com.tw/name_main/%E7%94%B0%E4%B8%AD%E5%9C%AD-kei-tanaka-36512', 'https://movies.yahoo.com.tw/name_main/%E6%BA%AB%E5%AD%90%E4%BB%81-james-wan-13391', 'https://movies.yahoo.com.tw/name_main/%E5%A4%A7%E5%8F%8B%E5%85%8B%E6%B4%8B-10457', 'https://movies.yahoo.com.tw/name_main/%E6%9D%8E%E5%85%89%E6%B4%99-lee-kwang-soo-42835', 'https://movies.yahoo.com.tw/name_main/%E5%BE%B7%E6%96%AF%E6%B1%80%E5%85%8B%E9%9B%B7%E9%A0%93-destin-daniel-cretton-1537', 'https://movies.yahoo.com.tw/name_main/%E6%A2%81%E6%9C%9D%E5%81%89-tony-leung-708', 'https://movies.yahoo.com.tw/name_main/%E6%A5%8A%E7%B4%AB%E7%93%8A-michelle-yeoh-1069', 'https://movies.yahoo.com.tw/name_main/%E9%8C%A2%E4%BF%A1%E4%BC%8A-ronny-chieng-48389', 'https://movies.yahoo.com.tw/name_main/%E5%A5%A7%E5%8D%A1%E8%8F%B2%E5%A8%9C-awkwafina-42901', 'https://movies.yahoo.com.tw/name_main/%E5%B0%BC%E7%88%BE%E5%96%AC%E7%99%BB-neil-jordan-1977', 'https://movies.yahoo.com.tw/name_main/%E7%B1%B3%E8%98%AD%E9%81%94%E6%9D%8E%E5%AF%9F%E7%94%9F-miranda-richardson-1545', 'https://movies.yahoo.com.tw/name_main/%E5%8F%B2%E8%92%82%E8%8A%AC%E7%91%9E%E7%88%BE-stephen-rea-3351', 'https://movies.yahoo.com.tw/name_main/%E7%91%AA%E5%8D%A1%E8%95%BE%E5%A8%9C%E9%98%BF%E6%96%AF%E6%89%98%E5%8A%A0-macarena-astorga-48805', 'https://movies.yahoo.com.tw/name_main/%E5%93%88%E7%B6%AD%E7%88%BE%E9%9B%B7%E4%BC%8A-javier-rey-48806', 'https://movies.yahoo.com.tw/name_main/%E5%B8%95%E5%A7%BF%E8%96%87%E6%A0%BC-paz-vega-294', 'https://movies.yahoo.com.tw/name_main/%E5%89%8D%E7%94%B0%E5%BC%98%E4%BA%8C-12638', 'https://movies.yahoo.com.tw/name_main/%E6%88%90%E7%94%B0%E5%87%8C-28283', 'https://movies.yahoo.com.tw/name_main/%E8%B6%99%E5%AF%85%E6%88%90-jo-in-sung-39692', 'https://movies.yahoo.com.tw/name_main/%E8%A8%B1%E5%B3%BB%E8%B1%AA-44452', 'https://movies.yahoo.com.tw/name_main/%E8%8B%B1%E5%8B%89-13844', 'https://movies.yahoo.com.tw/name_main/%E5%90%89%E6%BE%A4%E4%BA%AE-ryo-yoshizawa-30623', 'https://movies.yahoo.com.tw/name_main/%E5%B1%B1%E7%94%B0%E8%A3%95%E8%B2%B4-yuki-yamada-35378', 'https://movies.yahoo.com.tw/name_main/%E7%9C%9F%E6%A6%AE%E7%94%B0%E9%84%89%E6%95%A6-46458', 'https://movies.yahoo.com.tw/name_main/%E9%96%93%E5%AE%AE%E7%A5%A5%E5%A4%AA%E6%9C%97-42583', 'https://movies.yahoo.com.tw/name_main/%E6%B8%85%E6%B0%B4%E5%B0%8B%E4%B9%9F-shimizu-hiroya-43926', 'https://movies.yahoo.com.tw/name_main/%E5%AE%89%E8%BF%AA%E7%91%9F%E5%85%8B%E6%96%AF-andy-serkis-305', 'https://movies.yahoo.com.tw/name_main/%E6%B9%AF%E5%A7%86%E5%93%88%E8%BF%AA-tom-hardy-378', 'https://movies.yahoo.com.tw/name_main/%E8%9C%9C%E9%9B%AA%E5%85%92%E5%A8%81%E5%BB%89%E6%96%AF-michelle-williams-941', 'https://movies.yahoo.com.tw/name_main/%E4%BC%8D%E8%BF%AA%E5%93%88%E9%87%8C%E9%81%9C-woody-harrelson-840', 'https://movies.yahoo.com.tw/name_main/%E5%82%91%E5%85%8B%E8%91%9B%E5%80%AB%E9%9C%8D-jake-gyllenhaal-732', 'https://movies.yahoo.com.tw/name_main/%E9%BA%A5%E8%82%AF%E5%A8%9C%E8%91%9B%E7%91%9E%E7%B5%B2-mckenna-grace-41511', 'https://movies.yahoo.com.tw/name_main/%E8%8C%B1%E8%8E%89%E5%AE%89%E6%91%A9%E7%88%BE-julianne-moore-939', 'https://movies.yahoo.com.tw/name_main/%E7%B6%AD%E6%9E%9C%E8%8E%AB%E5%A4%A9%E6%A3%AE-viggo-mortensen-781', 'https://movies.yahoo.com.tw/name_main/%E8%98%AD%E6%96%AF%E4%BA%A8%E5%88%A9%E5%85%8B%E6%A3%AE-lance-henriksen-20816', 'https://movies.yahoo.com.tw/name_main/%E8%98%BF%E6%8B%89%E7%90%B3%E5%A6%AE-laura-linney-3465', 'https://movies.yahoo.com.tw/name_main/%E9%BB%83%E6%99%B8%E7%8F%89-jung-min-hwang-30476', 'https://movies.yahoo.com.tw/name_main/%E9%99%B3%E6%9E%9C-fruit-chan-5681', 'https://movies.yahoo.com.tw/name_main/%E5%A4%AA%E4%BF%9D-tai-bo-36161', 'https://movies.yahoo.com.tw/name_main/%E9%82%B5%E9%9F%B3%E9%9F%B3-susan-shaw-35480', 'https://movies.yahoo.com.tw/name_main/%E4%B8%B9%E5%B0%BC%E7%88%BE%E5%85%8B%E9%9B%B7%E6%A0%BC-daniel-craig-975', 'https://movies.yahoo.com.tw/name_main/%E9%9B%B7%E7%B1%B3%E9%A6%AC%E5%88%A9%E5%85%8B-rami-malek-43110', 'https://movies.yahoo.com.tw/name_main/%E8%95%BE%E9%9B%85%E7%91%9F%E6%9D%9C-lea-seydoux-1330', 'https://movies.yahoo.com.tw/name_main/%E9%9B%B7%E5%A4%AB%E8%8C%83%E6%81%A9%E6%96%AF-ralph-fiennes-270', 'https://movies.yahoo.com.tw/name_main/%E5%85%8B%E9%87%8C%E6%96%AF%E5%A4%9A%E5%A4%AB%E6%B2%83%E8%8C%B2-christoph-waltz-1178', 'https://movies.yahoo.com.tw/name_main/%E7%8F%AD%E7%B6%AD%E8%95%AD-ben-whishaw-542', 'https://movies.yahoo.com.tw/name_main/%E4%BA%9E%E7%95%B6%E5%B1%B1%E5%BE%B7%E5%8B%92-adam-sandler-143', 'https://movies.yahoo.com.tw/name_main/%E8%B3%BD%E7%90%B3%E5%A8%9C%E9%AB%98%E6%A2%85%E8%8C%B2-selena-gomez-1283', 'https://movies.yahoo.com.tw/name_main/%E4%B8%B9%E5%B0%BC%E7%B6%AD%E5%8B%92%E7%B4%8D%E5%A4%AB-denis-villeneuve-1285', 'https://movies.yahoo.com.tw/name_main/%E6%8F%90%E6%91%A9%E8%A5%BF%E5%A4%8F%E5%8B%92%E6%A2%85-timothee-chalamet-41905', 'https://movies.yahoo.com.tw/name_main/%E5%A5%A7%E6%96%AF%E5%8D%A1%E4%BC%8A%E8%96%A9%E5%85%8B-oscar-isaac-1344', 'https://movies.yahoo.com.tw/name_main/%E8%BE%9B%E8%92%82%E4%BA%9E-zendaya-41942', 'https://movies.yahoo.com.tw/name_main/%E5%96%AC%E8%A8%B1%E5%B8%83%E6%B4%9B%E6%9E%97-josh-brolin-1084', 'https://movies.yahoo.com.tw/name_main/%E6%88%B4%E5%A4%AB%E5%B7%B4%E8%92%82%E6%96%AF%E5%A1%94-dave-bautista-518', 'https://movies.yahoo.com.tw/name_main/%E5%82%91%E6%A3%AE%E6%91%A9%E8%8E%AB%E4%BA%9E-jason-momoa-19286', 'https://movies.yahoo.com.tw/name_main/%E5%93%88%E7%B6%AD%E7%88%BE%E5%B7%B4%E7%99%BB-javier-bardem-951', 'https://movies.yahoo.com.tw/name_main/%E5%A4%8F%E7%B6%A0%E8%92%82%E8%98%AD%E6%99%AE%E7%90%B3-charlotte-rampling-987', 'https://movies.yahoo.com.tw/name_main/%E5%BC%B5%E9%9C%87-chang-chen-439', 'https://movies.yahoo.com.tw/name_main/%E5%8F%B2%E6%88%B4%E5%80%AB%E5%8F%B2%E6%9F%AF%E6%96%AF%E5%98%89-stellan-skarsgard-1094', 'https://movies.yahoo.com.tw/name_main/%E5%A4%A7%E8%A1%9B%E9%AB%98%E7%99%BB%E6%A0%BC%E6%9E%97-david-gordon-green-1539', 'https://movies.yahoo.com.tw/name_main/%E8%B3%B4%E9%BA%97%E5%90%9B-11573', 'https://movies.yahoo.com.tw/name_main/%E5%82%91%E6%A3%AE%E8%90%8A%E7%89%B9%E6%9B%BC-jason-reitman-6242', 'https://movies.yahoo.com.tw/name_main/%E4%BF%9D%E7%BE%85%E8%B7%AF%E5%BE%B7-paul-rudd-23423', 'https://movies.yahoo.com.tw/name_main/%E6%AF%94%E7%88%BE%E9%BB%98%E7%91%9E-bill-murray-2376', 'https://movies.yahoo.com.tw/name_main/%E9%9B%AA%E6%AD%8C%E5%A6%AE%E8%96%87%E4%BD%9B-sigourney-weaver-807', 'https://movies.yahoo.com.tw/name_main/%E5%AE%89%E9%9B%85%E6%B3%B0%E5%8B%92%E5%96%AC%E4%BC%8A-anya-taylor-joy-27038', 'https://movies.yahoo.com.tw/name_main/%E5%96%AC%E7%91%9F%E5%A4%AB%E6%9F%AF%E8%BE%9B%E6%96%AF%E5%9F%BA-joseph-kosinski-6680', 'https://movies.yahoo.com.tw/name_main/%E6%B9%AF%E5%A7%86%E5%85%8B%E9%AD%AF%E6%96%AF-tom-cruise-1157', 'https://movies.yahoo.com.tw/name_main/%E5%96%AC%E6%BC%A2%E5%A7%86-jon-hamm-19853', 'https://movies.yahoo.com.tw/name_main/%E7%8F%8D%E5%A6%AE%E4%BD%9B%E5%BA%B7%E7%B4%8D%E8%8E%89-jennifer-connelly-1342', 'https://movies.yahoo.com.tw/name_main/%E9%BA%A5%E7%88%BE%E6%96%AF%E6%B3%B0%E5%8B%92-miles-teller-432', 'https://movies.yahoo.com.tw/name_main/%E5%A8%81%E7%88%BE%E5%8F%B2%E5%AF%86%E6%96%AF-will-smith-1087', 'https://movies.yahoo.com.tw/name_main/%E5%BC%B7%E6%9F%8F%E6%81%A9%E7%91%9F-jon-bernthal-510', 'https://movies.yahoo.com.tw/name_main/%E9%A6%AC%E4%BF%AE%E9%BA%A5%E5%BA%B7%E7%B4%8D-matthew-mcconaughey-1174', 'https://movies.yahoo.com.tw/name_main/%E6%B3%B0%E9%9A%86%E8%89%BE%E6%A0%BC%E9%A0%93-taron-egerton-25346', 'https://movies.yahoo.com.tw/name_main/%E7%91%9E%E7%B5%B2%E8%96%87%E6%96%AF%E6%9C%8B-reese-witherspoon-1050', 'https://movies.yahoo.com.tw/name_main/%E9%9B%B7%E5%88%A9%E5%8F%B2%E8%80%83%E7%89%B9-ridley-scott-820', 'https://movies.yahoo.com.tw/name_main/%E5%A5%B3%E7%A5%9E%E5%8D%A1%E5%8D%A1-lady-gaga-43661', 'https://movies.yahoo.com.tw/name_main/%E4%BA%9E%E7%95%B6%E5%B4%94%E4%BD%9B-adam-driver-441', 'https://movies.yahoo.com.tw/name_main/%E5%82%91%E7%91%9E%E5%BE%B7%E9%9B%B7%E6%89%98-jared-leto-1149', 'https://movies.yahoo.com.tw/name_main/%E8%89%BE%E7%88%BE%E5%B8%95%E8%A5%BF%E8%AB%BE-al-pacino-66', 'https://movies.yahoo.com.tw/name_main/%E5%8D%A1%E8%9C%9C%E5%85%92%E5%85%8B%E6%B1%80-camille-cottin-40762', 'https://movies.yahoo.com.tw/name_main/%E6%BD%94%E8%8A%AE%E6%B1%80%E8%96%87%E6%80%9D%E7%93%A6%E7%B4%8D%E6%A3%AE-geraldine-viswanathan-42016', 'https://movies.yahoo.com.tw/name_main/%E7%BE%85%E4%BC%AF%E6%B4%BE%E6%B1%80%E6%A3%AE-robert-pattinson-960', 'https://movies.yahoo.com.tw/name_main/%E6%9F%94%E4%BC%8A%E5%85%8B%E6%8B%89%E7%B6%AD%E8%8C%B2-zoe-kravitz-40692', 'https://movies.yahoo.com.tw/name_main/%E5%BD%BC%E5%BE%97%E5%A1%9E%E6%96%AF%E5%98%89-peter-sarsgaard-23561', 'https://movies.yahoo.com.tw/name_main/%E7%B4%84%E7%BF%B0%E7%89%B9%E6%89%98%E7%BE%85-john-turturro-212', 'https://movies.yahoo.com.tw/name_main/%E5%8F%B2%E6%8F%90%E5%A4%AB%E5%8D%A1%E7%88%BE-steve-carell-800']\n"
     ]
    }
   ],
   "source": [
    "def main():\n",
    "    r = requests.get(\"https://movies.yahoo.com.tw/\")\n",
    "    soup = BeautifulSoup(r.text, \"html.parser\")\n",
    "    sel = get_webpage_section(soup, \"ul\", \"id\", \"mainmenu\").select(\"a\")\n",
    "    mainmenu = dict()\n",
    "    for s in sel:\n",
    "        # print(s)\n",
    "        for t in ['本週新片', '上映中', '即將上映']:\n",
    "            if t in s.text: # 是以上種類的連結, 記錄在 mainmenu\n",
    "                mainmenu[t] = s['href']\n",
    "\n",
    "    movieList = list()\n",
    "    for movieName, movieUrl in mainmenu.items():\n",
    "        movieList += get_movies_url(movieUrl)\n",
    "\n",
    "    movieInfoList = list()\n",
    "    for m in movieList: # m: ['自殺突擊隊：集結', 'https://movies.yahoo.com.tw/movieinfo_main/%E8%87%AA%E6%AE%BA%E7%AA%81%E6%93%8A%E9%9A%8A-%E9%9B%86%E7%B5%90-the-suicide-squad-11328']\n",
    "        movieInfoList.append(get_movies_info(m))\n",
    "    \n",
    "    get_actors(movieList)\n",
    "    \n",
    "    # file = open(\"movie_info.txt\", \"w\", encoding=\"utf-8\")\n",
    "    # movieJson = pack_to_json(movieInfoList)\n",
    "    # json.dump(movieJson, file, indent=4, ensure_ascii=False)\n",
    "    # file.close()\n",
    "    \n",
    "main()"
   ]
  },
  {
   "cell_type": "code",
   "execution_count": null,
   "id": "d17ab9fe",
   "metadata": {},
   "outputs": [],
   "source": []
  },
  {
   "cell_type": "code",
   "execution_count": null,
   "id": "2eabbd96",
   "metadata": {},
   "outputs": [],
   "source": []
  }
 ],
 "metadata": {
  "kernelspec": {
   "display_name": "Python 3",
   "language": "python",
   "name": "python3"
  },
  "language_info": {
   "codemirror_mode": {
    "name": "ipython",
    "version": 3
   },
   "file_extension": ".py",
   "mimetype": "text/x-python",
   "name": "python",
   "nbconvert_exporter": "python",
   "pygments_lexer": "ipython3",
   "version": "3.8.8"
  }
 },
 "nbformat": 4,
 "nbformat_minor": 5
}
