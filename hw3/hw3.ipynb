{
 "cells": [
  {
   "cell_type": "code",
   "execution_count": 95,
   "id": "ef6c514c",
   "metadata": {},
   "outputs": [],
   "source": [
    "import json\n",
    "import pandas as pd\n",
    "import numpy as np\n",
    "from io import StringIO\n",
    "from sklearn.feature_extraction.text import TfidfVectorizer\n",
    "from sklearn.model_selection import train_test_split"
   ]
  },
  {
   "cell_type": "code",
   "execution_count": 91,
   "id": "22a3b2d4",
   "metadata": {},
   "outputs": [],
   "source": [
    "def preprocess(fileName):\n",
    "    with open(fileName, newline='',  encoding='utf-8') as jsonfile:\n",
    "        data = json.load(jsonfile)\n",
    "        #data = [val for key,val in data.items()]\n",
    "        data = json.dumps(data, ensure_ascii=False)\n",
    "        df = pd.read_json(StringIO(data), orient='index')\n",
    "        df['Movie Category'] = df['Movie Category'].apply(lambda x: x[0] if len(x)>0 else np.nan)\n",
    "        df = df[~pd.isnull(df['Movie Category'])]\n",
    "        return df"
   ]
  },
  {
   "cell_type": "code",
   "execution_count": 101,
   "id": "9dbe1bde",
   "metadata": {},
   "outputs": [],
   "source": [
    "fileName= \"movie_info.json\"\n",
    "oneCateDf = preprocess(fileName)\n",
    "vectorizer = TfidfVectorizer(analyzer='word', ngram_range=(1,4),\n",
    "                     min_df = 0, stop_words = None, sublinear_tf=True)\n",
    "X_train, X_test, y_train, y_test = train_test_split(\n",
    " df['Story Intro'], df['Movie Category'], test_size=0.1, random_state=42)\n",
    "response = vectorizer.fit_transform(X_train)"
   ]
  },
  {
   "cell_type": "code",
   "execution_count": 96,
   "id": "e1998826",
   "metadata": {},
   "outputs": [],
   "source": []
  },
  {
   "cell_type": "code",
   "execution_count": null,
   "id": "16cccb3a",
   "metadata": {},
   "outputs": [],
   "source": []
  },
  {
   "cell_type": "code",
   "execution_count": null,
   "id": "5794a484",
   "metadata": {},
   "outputs": [],
   "source": []
  }
 ],
 "metadata": {
  "kernelspec": {
   "display_name": "Python 3",
   "language": "python",
   "name": "python3"
  },
  "language_info": {
   "codemirror_mode": {
    "name": "ipython",
    "version": 3
   },
   "file_extension": ".py",
   "mimetype": "text/x-python",
   "name": "python",
   "nbconvert_exporter": "python",
   "pygments_lexer": "ipython3",
   "version": "3.8.8"
  }
 },
 "nbformat": 4,
 "nbformat_minor": 5
}
