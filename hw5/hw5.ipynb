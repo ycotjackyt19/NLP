{
 "cells": [
  {
   "cell_type": "code",
   "execution_count": 13,
   "id": "7f227f48",
   "metadata": {},
   "outputs": [],
   "source": [
    "from keras.models import Model\n",
    "from keras.layers import Input, LSTM, Dense\n",
    "import numpy as np\n",
    "import json"
   ]
  },
  {
   "cell_type": "code",
   "execution_count": 18,
   "id": "069807cc",
   "metadata": {},
   "outputs": [],
   "source": [
    "def preprocess(train_path, test_path):\n",
    "    input_texts = []\n",
    "    target_texts = []\n",
    "    \n",
    "    test_input_texts = []\n",
    "    test_target_texts = []\n",
    "    \n",
    "    num_lines_train_file = sum(1 for line in open(train_path, encoding='utf-8'))\n",
    "    num_lines_test_file = sum(1 for line in open(test_path, encoding='utf-8'))\n",
    "                    \n",
    "    print(\"Read\",train_path,\"...\")\n",
    "    counter = 0\n",
    "    with open(train_path,  encoding='utf-8') as fp:\n",
    "        for json_str in fp:\n",
    "            counter = counter + 1\n",
    "            data = json.loads(json_str)\n",
    "            input_texts.append(data[\"english\"])\n",
    "            target_texts.append(data[\"chinese\"])\n",
    "            \n",
    "            if(counter%1000000==0):\n",
    "                print(\"Now processing {}/{} rows...\".format(counter, num_lines_train_file))   \n",
    "            \n",
    "    print(\"Read\",train_path,\"finished!\")\n",
    "    \n",
    "    print(\"\\nRead\",test_path,\"...\")\n",
    "    counter = 0\n",
    "    with open(test_path,  encoding='utf-8') as fp:\n",
    "        for json_str in fp:\n",
    "            counter = counter + 1\n",
    "            data = json.loads(json_str)\n",
    "            \n",
    "            if counter <= num_lines_test_file-100:\n",
    "                input_texts.append(data[\"english\"])\n",
    "                target_texts.append(data[\"chinese\"])\n",
    "            else:\n",
    "                test_input_texts.append(data[\"english\"])\n",
    "                test_target_texts.append(data[\"chinese\"])\n",
    "    print(\"Read\",test_path,\"finished!\")      \n",
    "          \n",
    "    return input_texts, target_texts, test_input_texts, test_target_texts"
   ]
  },
  {
   "cell_type": "code",
   "execution_count": 19,
   "id": "5351588c",
   "metadata": {},
   "outputs": [
    {
     "name": "stdout",
     "output_type": "stream",
     "text": [
      "Read translation2019zh/translation2019zh_train.json ...\n",
      "Now processing 1000000/5161434 rows...\n",
      "Now processing 2000000/5161434 rows...\n",
      "Now processing 3000000/5161434 rows...\n",
      "Now processing 4000000/5161434 rows...\n",
      "Now processing 5000000/5161434 rows...\n",
      "Read translation2019zh/translation2019zh_train.json finished!\n",
      "\n",
      "Read translation2019zh/translation2019zh_valid.json ...\n",
      "Read translation2019zh/translation2019zh_valid.json finished!\n"
     ]
    }
   ],
   "source": [
    "train_path = 'translation2019zh/translation2019zh_train.json'\n",
    "test_path = 'translation2019zh/translation2019zh_valid.json'\n",
    "\n",
    "input_texts, target_texts, test_input_texts, test_target_texts = preprocess(train_path,test_path)"
   ]
  },
  {
   "cell_type": "code",
   "execution_count": 20,
   "id": "ff2bf838",
   "metadata": {},
   "outputs": [
    {
     "data": {
      "text/plain": [
       "(5200657, 5200657, 100, 100)"
      ]
     },
     "execution_count": 20,
     "metadata": {},
     "output_type": "execute_result"
    }
   ],
   "source": [
    "len(input_texts), len(target_texts), len(test_input_texts), len(test_target_texts)"
   ]
  },
  {
   "cell_type": "code",
   "execution_count": null,
   "id": "e4032332",
   "metadata": {},
   "outputs": [],
   "source": []
  }
 ],
 "metadata": {
  "kernelspec": {
   "display_name": "Python 3",
   "language": "python",
   "name": "python3"
  },
  "language_info": {
   "codemirror_mode": {
    "name": "ipython",
    "version": 3
   },
   "file_extension": ".py",
   "mimetype": "text/x-python",
   "name": "python",
   "nbconvert_exporter": "python",
   "pygments_lexer": "ipython3",
   "version": "3.8.8"
  }
 },
 "nbformat": 4,
 "nbformat_minor": 5
}
